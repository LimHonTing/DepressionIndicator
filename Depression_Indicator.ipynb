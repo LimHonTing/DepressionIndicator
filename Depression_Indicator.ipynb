{
  "nbformat": 4,
  "nbformat_minor": 0,
  "metadata": {
    "colab": {
      "name": "Depression Indicator.ipynb",
      "provenance": [],
      "authorship_tag": "ABX9TyMpQNIY8RAcoSyDhdfnXTFP",
      "include_colab_link": true
    },
    "kernelspec": {
      "name": "python3",
      "display_name": "Python 3"
    },
    "language_info": {
      "name": "python"
    }
  },
  "cells": [
    {
      "cell_type": "markdown",
      "metadata": {
        "id": "view-in-github",
        "colab_type": "text"
      },
      "source": [
        "<a href=\"https://colab.research.google.com/github/ryoshi007/DepressionIndicator/blob/master/Depression_Indicator.ipynb\" target=\"_parent\"><img src=\"https://colab.research.google.com/assets/colab-badge.svg\" alt=\"Open In Colab\"/></a>"
      ]
    },
    {
      "cell_type": "markdown",
      "source": [
        "# Import Libraries and Load the Data"
      ],
      "metadata": {
        "id": "bPdmo6xEdmvS"
      }
    },
    {
      "cell_type": "code",
      "execution_count": 23,
      "metadata": {
        "id": "aNHZtNURV4qI"
      },
      "outputs": [],
      "source": [
        "# importing necessary libraries\n",
        "from sklearn import svm\n",
        "from sklearn.model_selection import train_test_split\n",
        "\n",
        "import matplotlib.pyplot as plt # for plotting data and creating different charts\n",
        "import numpy as np # for math and arrays\n",
        "import pandas as pd # for operation on data\n",
        "import seaborn as sns # for plotting"
      ]
    },
    {
      "cell_type": "code",
      "source": [
        "data = pd.read_csv(\"https://raw.githubusercontent.com/ryoshi007/DepressionIndicator/master/clean_data.csv\")\n",
        "data"
      ],
      "metadata": {
        "colab": {
          "base_uri": "https://localhost:8080/",
          "height": 644
        },
        "id": "2cc3iF72V-MT",
        "outputId": "32896077-e44c-49e6-be01-0759ef0934aa"
      },
      "execution_count": 24,
      "outputs": [
        {
          "output_type": "execute_result",
          "data": {
            "text/plain": [
              "       Optimistic  Motivation  Looking-Forward  Sadness  Interest  \\\n",
              "0               1           3                0        3         3   \n",
              "1               1           3                1        3         2   \n",
              "2               3           3                3        3         3   \n",
              "3               1           2                2        0         1   \n",
              "4               2           3                2        3         2   \n",
              "...           ...         ...              ...      ...       ...   \n",
              "39770           2           2                3        3         2   \n",
              "39771           2           2                3        3         3   \n",
              "39772           1           0                0        1         0   \n",
              "39773           1           2                0        3         0   \n",
              "39774           1           3                0        2         3   \n",
              "\n",
              "       Existential-Crisis  Importance  Enjoyment  Down-hearted  Enthusiasm  \\\n",
              "0                       2           0          3             3           3   \n",
              "1                       3           1          1             2           1   \n",
              "2                       3           3          3             0           3   \n",
              "3                       2           0          0             1           2   \n",
              "4                       3           2          1             3           2   \n",
              "...                   ...         ...        ...           ...         ...   \n",
              "39770                   3           3          2             2           3   \n",
              "39771                   2           3          3             3           3   \n",
              "39772                   0           0          1             0           1   \n",
              "39773                   1           1          1             2           1   \n",
              "39774                   3           3          1             1           1   \n",
              "\n",
              "       Worthiness  Hopefulness  Meaningless  Tiredness  Total_Count  gender  \\\n",
              "0               2            0            1          3           27       2   \n",
              "1               1            3            1          1           24       2   \n",
              "2               3            3            3          3           39       2   \n",
              "3               3            1            0          1           16       2   \n",
              "4               3            2            2          2           32       2   \n",
              "...           ...          ...          ...        ...          ...     ...   \n",
              "39770           3            3            3          2           36       1   \n",
              "39771           3            2            3          3           38       1   \n",
              "39772           0            0            0          0            4       2   \n",
              "39773           1            0            1          2           16       2   \n",
              "39774           2            1            3          3           27       2   \n",
              "\n",
              "       age  married          Age_Groups         Condition  \n",
              "0       16        1    Primary Children            Severe  \n",
              "1       16        1    Primary Children            Severe  \n",
              "2       17        1  Secondary Children  Extremely Severe  \n",
              "3       13        1    Primary Children          Moderate  \n",
              "4       19        1  Secondary Children  Extremely Severe  \n",
              "...    ...      ...                 ...               ...  \n",
              "39770   16        1    Primary Children  Extremely Severe  \n",
              "39771   21        1  Secondary Children  Extremely Severe  \n",
              "39772   48        2        Elder Adults            Normal  \n",
              "39773   20        1  Secondary Children          Moderate  \n",
              "39774   26        1              Adults            Severe  \n",
              "\n",
              "[39775 rows x 20 columns]"
            ],
            "text/html": [
              "\n",
              "  <div id=\"df-83942333-a8df-42a0-8df3-8e09ee1ac5e1\">\n",
              "    <div class=\"colab-df-container\">\n",
              "      <div>\n",
              "<style scoped>\n",
              "    .dataframe tbody tr th:only-of-type {\n",
              "        vertical-align: middle;\n",
              "    }\n",
              "\n",
              "    .dataframe tbody tr th {\n",
              "        vertical-align: top;\n",
              "    }\n",
              "\n",
              "    .dataframe thead th {\n",
              "        text-align: right;\n",
              "    }\n",
              "</style>\n",
              "<table border=\"1\" class=\"dataframe\">\n",
              "  <thead>\n",
              "    <tr style=\"text-align: right;\">\n",
              "      <th></th>\n",
              "      <th>Optimistic</th>\n",
              "      <th>Motivation</th>\n",
              "      <th>Looking-Forward</th>\n",
              "      <th>Sadness</th>\n",
              "      <th>Interest</th>\n",
              "      <th>Existential-Crisis</th>\n",
              "      <th>Importance</th>\n",
              "      <th>Enjoyment</th>\n",
              "      <th>Down-hearted</th>\n",
              "      <th>Enthusiasm</th>\n",
              "      <th>Worthiness</th>\n",
              "      <th>Hopefulness</th>\n",
              "      <th>Meaningless</th>\n",
              "      <th>Tiredness</th>\n",
              "      <th>Total_Count</th>\n",
              "      <th>gender</th>\n",
              "      <th>age</th>\n",
              "      <th>married</th>\n",
              "      <th>Age_Groups</th>\n",
              "      <th>Condition</th>\n",
              "    </tr>\n",
              "  </thead>\n",
              "  <tbody>\n",
              "    <tr>\n",
              "      <th>0</th>\n",
              "      <td>1</td>\n",
              "      <td>3</td>\n",
              "      <td>0</td>\n",
              "      <td>3</td>\n",
              "      <td>3</td>\n",
              "      <td>2</td>\n",
              "      <td>0</td>\n",
              "      <td>3</td>\n",
              "      <td>3</td>\n",
              "      <td>3</td>\n",
              "      <td>2</td>\n",
              "      <td>0</td>\n",
              "      <td>1</td>\n",
              "      <td>3</td>\n",
              "      <td>27</td>\n",
              "      <td>2</td>\n",
              "      <td>16</td>\n",
              "      <td>1</td>\n",
              "      <td>Primary Children</td>\n",
              "      <td>Severe</td>\n",
              "    </tr>\n",
              "    <tr>\n",
              "      <th>1</th>\n",
              "      <td>1</td>\n",
              "      <td>3</td>\n",
              "      <td>1</td>\n",
              "      <td>3</td>\n",
              "      <td>2</td>\n",
              "      <td>3</td>\n",
              "      <td>1</td>\n",
              "      <td>1</td>\n",
              "      <td>2</td>\n",
              "      <td>1</td>\n",
              "      <td>1</td>\n",
              "      <td>3</td>\n",
              "      <td>1</td>\n",
              "      <td>1</td>\n",
              "      <td>24</td>\n",
              "      <td>2</td>\n",
              "      <td>16</td>\n",
              "      <td>1</td>\n",
              "      <td>Primary Children</td>\n",
              "      <td>Severe</td>\n",
              "    </tr>\n",
              "    <tr>\n",
              "      <th>2</th>\n",
              "      <td>3</td>\n",
              "      <td>3</td>\n",
              "      <td>3</td>\n",
              "      <td>3</td>\n",
              "      <td>3</td>\n",
              "      <td>3</td>\n",
              "      <td>3</td>\n",
              "      <td>3</td>\n",
              "      <td>0</td>\n",
              "      <td>3</td>\n",
              "      <td>3</td>\n",
              "      <td>3</td>\n",
              "      <td>3</td>\n",
              "      <td>3</td>\n",
              "      <td>39</td>\n",
              "      <td>2</td>\n",
              "      <td>17</td>\n",
              "      <td>1</td>\n",
              "      <td>Secondary Children</td>\n",
              "      <td>Extremely Severe</td>\n",
              "    </tr>\n",
              "    <tr>\n",
              "      <th>3</th>\n",
              "      <td>1</td>\n",
              "      <td>2</td>\n",
              "      <td>2</td>\n",
              "      <td>0</td>\n",
              "      <td>1</td>\n",
              "      <td>2</td>\n",
              "      <td>0</td>\n",
              "      <td>0</td>\n",
              "      <td>1</td>\n",
              "      <td>2</td>\n",
              "      <td>3</td>\n",
              "      <td>1</td>\n",
              "      <td>0</td>\n",
              "      <td>1</td>\n",
              "      <td>16</td>\n",
              "      <td>2</td>\n",
              "      <td>13</td>\n",
              "      <td>1</td>\n",
              "      <td>Primary Children</td>\n",
              "      <td>Moderate</td>\n",
              "    </tr>\n",
              "    <tr>\n",
              "      <th>4</th>\n",
              "      <td>2</td>\n",
              "      <td>3</td>\n",
              "      <td>2</td>\n",
              "      <td>3</td>\n",
              "      <td>2</td>\n",
              "      <td>3</td>\n",
              "      <td>2</td>\n",
              "      <td>1</td>\n",
              "      <td>3</td>\n",
              "      <td>2</td>\n",
              "      <td>3</td>\n",
              "      <td>2</td>\n",
              "      <td>2</td>\n",
              "      <td>2</td>\n",
              "      <td>32</td>\n",
              "      <td>2</td>\n",
              "      <td>19</td>\n",
              "      <td>1</td>\n",
              "      <td>Secondary Children</td>\n",
              "      <td>Extremely Severe</td>\n",
              "    </tr>\n",
              "    <tr>\n",
              "      <th>...</th>\n",
              "      <td>...</td>\n",
              "      <td>...</td>\n",
              "      <td>...</td>\n",
              "      <td>...</td>\n",
              "      <td>...</td>\n",
              "      <td>...</td>\n",
              "      <td>...</td>\n",
              "      <td>...</td>\n",
              "      <td>...</td>\n",
              "      <td>...</td>\n",
              "      <td>...</td>\n",
              "      <td>...</td>\n",
              "      <td>...</td>\n",
              "      <td>...</td>\n",
              "      <td>...</td>\n",
              "      <td>...</td>\n",
              "      <td>...</td>\n",
              "      <td>...</td>\n",
              "      <td>...</td>\n",
              "      <td>...</td>\n",
              "    </tr>\n",
              "    <tr>\n",
              "      <th>39770</th>\n",
              "      <td>2</td>\n",
              "      <td>2</td>\n",
              "      <td>3</td>\n",
              "      <td>3</td>\n",
              "      <td>2</td>\n",
              "      <td>3</td>\n",
              "      <td>3</td>\n",
              "      <td>2</td>\n",
              "      <td>2</td>\n",
              "      <td>3</td>\n",
              "      <td>3</td>\n",
              "      <td>3</td>\n",
              "      <td>3</td>\n",
              "      <td>2</td>\n",
              "      <td>36</td>\n",
              "      <td>1</td>\n",
              "      <td>16</td>\n",
              "      <td>1</td>\n",
              "      <td>Primary Children</td>\n",
              "      <td>Extremely Severe</td>\n",
              "    </tr>\n",
              "    <tr>\n",
              "      <th>39771</th>\n",
              "      <td>2</td>\n",
              "      <td>2</td>\n",
              "      <td>3</td>\n",
              "      <td>3</td>\n",
              "      <td>3</td>\n",
              "      <td>2</td>\n",
              "      <td>3</td>\n",
              "      <td>3</td>\n",
              "      <td>3</td>\n",
              "      <td>3</td>\n",
              "      <td>3</td>\n",
              "      <td>2</td>\n",
              "      <td>3</td>\n",
              "      <td>3</td>\n",
              "      <td>38</td>\n",
              "      <td>1</td>\n",
              "      <td>21</td>\n",
              "      <td>1</td>\n",
              "      <td>Secondary Children</td>\n",
              "      <td>Extremely Severe</td>\n",
              "    </tr>\n",
              "    <tr>\n",
              "      <th>39772</th>\n",
              "      <td>1</td>\n",
              "      <td>0</td>\n",
              "      <td>0</td>\n",
              "      <td>1</td>\n",
              "      <td>0</td>\n",
              "      <td>0</td>\n",
              "      <td>0</td>\n",
              "      <td>1</td>\n",
              "      <td>0</td>\n",
              "      <td>1</td>\n",
              "      <td>0</td>\n",
              "      <td>0</td>\n",
              "      <td>0</td>\n",
              "      <td>0</td>\n",
              "      <td>4</td>\n",
              "      <td>2</td>\n",
              "      <td>48</td>\n",
              "      <td>2</td>\n",
              "      <td>Elder Adults</td>\n",
              "      <td>Normal</td>\n",
              "    </tr>\n",
              "    <tr>\n",
              "      <th>39773</th>\n",
              "      <td>1</td>\n",
              "      <td>2</td>\n",
              "      <td>0</td>\n",
              "      <td>3</td>\n",
              "      <td>0</td>\n",
              "      <td>1</td>\n",
              "      <td>1</td>\n",
              "      <td>1</td>\n",
              "      <td>2</td>\n",
              "      <td>1</td>\n",
              "      <td>1</td>\n",
              "      <td>0</td>\n",
              "      <td>1</td>\n",
              "      <td>2</td>\n",
              "      <td>16</td>\n",
              "      <td>2</td>\n",
              "      <td>20</td>\n",
              "      <td>1</td>\n",
              "      <td>Secondary Children</td>\n",
              "      <td>Moderate</td>\n",
              "    </tr>\n",
              "    <tr>\n",
              "      <th>39774</th>\n",
              "      <td>1</td>\n",
              "      <td>3</td>\n",
              "      <td>0</td>\n",
              "      <td>2</td>\n",
              "      <td>3</td>\n",
              "      <td>3</td>\n",
              "      <td>3</td>\n",
              "      <td>1</td>\n",
              "      <td>1</td>\n",
              "      <td>1</td>\n",
              "      <td>2</td>\n",
              "      <td>1</td>\n",
              "      <td>3</td>\n",
              "      <td>3</td>\n",
              "      <td>27</td>\n",
              "      <td>2</td>\n",
              "      <td>26</td>\n",
              "      <td>1</td>\n",
              "      <td>Adults</td>\n",
              "      <td>Severe</td>\n",
              "    </tr>\n",
              "  </tbody>\n",
              "</table>\n",
              "<p>39775 rows × 20 columns</p>\n",
              "</div>\n",
              "      <button class=\"colab-df-convert\" onclick=\"convertToInteractive('df-83942333-a8df-42a0-8df3-8e09ee1ac5e1')\"\n",
              "              title=\"Convert this dataframe to an interactive table.\"\n",
              "              style=\"display:none;\">\n",
              "        \n",
              "  <svg xmlns=\"http://www.w3.org/2000/svg\" height=\"24px\"viewBox=\"0 0 24 24\"\n",
              "       width=\"24px\">\n",
              "    <path d=\"M0 0h24v24H0V0z\" fill=\"none\"/>\n",
              "    <path d=\"M18.56 5.44l.94 2.06.94-2.06 2.06-.94-2.06-.94-.94-2.06-.94 2.06-2.06.94zm-11 1L8.5 8.5l.94-2.06 2.06-.94-2.06-.94L8.5 2.5l-.94 2.06-2.06.94zm10 10l.94 2.06.94-2.06 2.06-.94-2.06-.94-.94-2.06-.94 2.06-2.06.94z\"/><path d=\"M17.41 7.96l-1.37-1.37c-.4-.4-.92-.59-1.43-.59-.52 0-1.04.2-1.43.59L10.3 9.45l-7.72 7.72c-.78.78-.78 2.05 0 2.83L4 21.41c.39.39.9.59 1.41.59.51 0 1.02-.2 1.41-.59l7.78-7.78 2.81-2.81c.8-.78.8-2.07 0-2.86zM5.41 20L4 18.59l7.72-7.72 1.47 1.35L5.41 20z\"/>\n",
              "  </svg>\n",
              "      </button>\n",
              "      \n",
              "  <style>\n",
              "    .colab-df-container {\n",
              "      display:flex;\n",
              "      flex-wrap:wrap;\n",
              "      gap: 12px;\n",
              "    }\n",
              "\n",
              "    .colab-df-convert {\n",
              "      background-color: #E8F0FE;\n",
              "      border: none;\n",
              "      border-radius: 50%;\n",
              "      cursor: pointer;\n",
              "      display: none;\n",
              "      fill: #1967D2;\n",
              "      height: 32px;\n",
              "      padding: 0 0 0 0;\n",
              "      width: 32px;\n",
              "    }\n",
              "\n",
              "    .colab-df-convert:hover {\n",
              "      background-color: #E2EBFA;\n",
              "      box-shadow: 0px 1px 2px rgba(60, 64, 67, 0.3), 0px 1px 3px 1px rgba(60, 64, 67, 0.15);\n",
              "      fill: #174EA6;\n",
              "    }\n",
              "\n",
              "    [theme=dark] .colab-df-convert {\n",
              "      background-color: #3B4455;\n",
              "      fill: #D2E3FC;\n",
              "    }\n",
              "\n",
              "    [theme=dark] .colab-df-convert:hover {\n",
              "      background-color: #434B5C;\n",
              "      box-shadow: 0px 1px 3px 1px rgba(0, 0, 0, 0.15);\n",
              "      filter: drop-shadow(0px 1px 2px rgba(0, 0, 0, 0.3));\n",
              "      fill: #FFFFFF;\n",
              "    }\n",
              "  </style>\n",
              "\n",
              "      <script>\n",
              "        const buttonEl =\n",
              "          document.querySelector('#df-83942333-a8df-42a0-8df3-8e09ee1ac5e1 button.colab-df-convert');\n",
              "        buttonEl.style.display =\n",
              "          google.colab.kernel.accessAllowed ? 'block' : 'none';\n",
              "\n",
              "        async function convertToInteractive(key) {\n",
              "          const element = document.querySelector('#df-83942333-a8df-42a0-8df3-8e09ee1ac5e1');\n",
              "          const dataTable =\n",
              "            await google.colab.kernel.invokeFunction('convertToInteractive',\n",
              "                                                     [key], {});\n",
              "          if (!dataTable) return;\n",
              "\n",
              "          const docLinkHtml = 'Like what you see? Visit the ' +\n",
              "            '<a target=\"_blank\" href=https://colab.research.google.com/notebooks/data_table.ipynb>data table notebook</a>'\n",
              "            + ' to learn more about interactive tables.';\n",
              "          element.innerHTML = '';\n",
              "          dataTable['output_type'] = 'display_data';\n",
              "          await google.colab.output.renderOutput(dataTable, element);\n",
              "          const docLink = document.createElement('div');\n",
              "          docLink.innerHTML = docLinkHtml;\n",
              "          element.appendChild(docLink);\n",
              "        }\n",
              "      </script>\n",
              "    </div>\n",
              "  </div>\n",
              "  "
            ]
          },
          "metadata": {},
          "execution_count": 24
        }
      ]
    },
    {
      "cell_type": "code",
      "source": [
        "print(f'Number of rows/examples and columns in the dataset: {data.shape}')"
      ],
      "metadata": {
        "colab": {
          "base_uri": "https://localhost:8080/"
        },
        "id": "OuQ8a24ZWEtv",
        "outputId": "2d24902e-78d0-4539-8b08-cdfd635a9db4"
      },
      "execution_count": 25,
      "outputs": [
        {
          "output_type": "stream",
          "name": "stdout",
          "text": [
            "Number of rows/examples and columns in the dataset: (39775, 20)\n"
          ]
        }
      ]
    },
    {
      "cell_type": "code",
      "source": [
        "# Summary of information on the dataset.\n",
        "data.info()"
      ],
      "metadata": {
        "colab": {
          "base_uri": "https://localhost:8080/"
        },
        "id": "xvWXx-HwWNX1",
        "outputId": "cb1d6dee-ec31-4207-c5a9-e9006133c222"
      },
      "execution_count": 26,
      "outputs": [
        {
          "output_type": "stream",
          "name": "stdout",
          "text": [
            "<class 'pandas.core.frame.DataFrame'>\n",
            "RangeIndex: 39775 entries, 0 to 39774\n",
            "Data columns (total 20 columns):\n",
            " #   Column              Non-Null Count  Dtype \n",
            "---  ------              --------------  ----- \n",
            " 0   Optimistic          39775 non-null  int64 \n",
            " 1   Motivation          39775 non-null  int64 \n",
            " 2   Looking-Forward     39775 non-null  int64 \n",
            " 3   Sadness             39775 non-null  int64 \n",
            " 4   Interest            39775 non-null  int64 \n",
            " 5   Existential-Crisis  39775 non-null  int64 \n",
            " 6   Importance          39775 non-null  int64 \n",
            " 7   Enjoyment           39775 non-null  int64 \n",
            " 8   Down-hearted        39775 non-null  int64 \n",
            " 9   Enthusiasm          39775 non-null  int64 \n",
            " 10  Worthiness          39775 non-null  int64 \n",
            " 11  Hopefulness         39775 non-null  int64 \n",
            " 12  Meaningless         39775 non-null  int64 \n",
            " 13  Tiredness           39775 non-null  int64 \n",
            " 14  Total_Count         39775 non-null  int64 \n",
            " 15  gender              39775 non-null  int64 \n",
            " 16  age                 39775 non-null  int64 \n",
            " 17  married             39775 non-null  int64 \n",
            " 18  Age_Groups          39775 non-null  object\n",
            " 19  Condition           39775 non-null  object\n",
            "dtypes: int64(18), object(2)\n",
            "memory usage: 6.1+ MB\n"
          ]
        }
      ]
    },
    {
      "cell_type": "markdown",
      "source": [
        "# Cleaning the Data"
      ],
      "metadata": {
        "id": "xiM0stYFWaAX"
      }
    },
    {
      "cell_type": "code",
      "source": [
        "# Drop unnecesary column\n",
        "data.drop(\"Age_Groups\", inplace=True, axis=1)\n",
        "data.drop(\"Total_Count\", inplace=True, axis=1)"
      ],
      "metadata": {
        "id": "STDtI-SeI7jb"
      },
      "execution_count": 27,
      "outputs": []
    },
    {
      "cell_type": "code",
      "source": [
        "print(\"Display NA values in each columns: \")\n",
        "data.isna().sum(axis = 0)"
      ],
      "metadata": {
        "colab": {
          "base_uri": "https://localhost:8080/"
        },
        "id": "B5URojIjWc6x",
        "outputId": "3af15e61-a9fb-489a-f084-bfd4a2a6ff35"
      },
      "execution_count": 28,
      "outputs": [
        {
          "output_type": "stream",
          "name": "stdout",
          "text": [
            "Display NA values in each columns: \n"
          ]
        },
        {
          "output_type": "execute_result",
          "data": {
            "text/plain": [
              "Optimistic            0\n",
              "Motivation            0\n",
              "Looking-Forward       0\n",
              "Sadness               0\n",
              "Interest              0\n",
              "Existential-Crisis    0\n",
              "Importance            0\n",
              "Enjoyment             0\n",
              "Down-hearted          0\n",
              "Enthusiasm            0\n",
              "Worthiness            0\n",
              "Hopefulness           0\n",
              "Meaningless           0\n",
              "Tiredness             0\n",
              "gender                0\n",
              "age                   0\n",
              "married               0\n",
              "Condition             0\n",
              "dtype: int64"
            ]
          },
          "metadata": {},
          "execution_count": 28
        }
      ]
    },
    {
      "cell_type": "code",
      "source": [
        "print(\"Display NULL values in each columns: \")\n",
        "data.isnull().sum()"
      ],
      "metadata": {
        "colab": {
          "base_uri": "https://localhost:8080/"
        },
        "id": "gkPCL-wXWglt",
        "outputId": "bb264ea4-ec2a-4c91-d0a7-2d6351831497"
      },
      "execution_count": 29,
      "outputs": [
        {
          "output_type": "stream",
          "name": "stdout",
          "text": [
            "Display NULL values in each columns: \n"
          ]
        },
        {
          "output_type": "execute_result",
          "data": {
            "text/plain": [
              "Optimistic            0\n",
              "Motivation            0\n",
              "Looking-Forward       0\n",
              "Sadness               0\n",
              "Interest              0\n",
              "Existential-Crisis    0\n",
              "Importance            0\n",
              "Enjoyment             0\n",
              "Down-hearted          0\n",
              "Enthusiasm            0\n",
              "Worthiness            0\n",
              "Hopefulness           0\n",
              "Meaningless           0\n",
              "Tiredness             0\n",
              "gender                0\n",
              "age                   0\n",
              "married               0\n",
              "Condition             0\n",
              "dtype: int64"
            ]
          },
          "metadata": {},
          "execution_count": 29
        }
      ]
    },
    {
      "cell_type": "code",
      "source": [
        "data = data.dropna()"
      ],
      "metadata": {
        "id": "VOxqt3cuWwH_"
      },
      "execution_count": 30,
      "outputs": []
    },
    {
      "cell_type": "code",
      "source": [
        "data = data.sample(frac = 1) # Randomly shuffle the rows to make sure data is not sorted"
      ],
      "metadata": {
        "id": "3R7gbD_yW0m-"
      },
      "execution_count": 31,
      "outputs": []
    },
    {
      "cell_type": "markdown",
      "source": [
        "# Embedding the Label"
      ],
      "metadata": {
        "id": "henZZogxbN4N"
      }
    },
    {
      "cell_type": "code",
      "source": [
        "# Convert label from non-numerical value to numerical value\n",
        "data = data.replace(\"Normal\", 1)\n",
        "data = data.replace(\"Mild\", 2)\n",
        "data = data.replace(\"Moderate\", 3)\n",
        "data = data.replace(\"Severe\", 4)\n",
        "data = data.replace(\"Extremely Severe\", 5)"
      ],
      "metadata": {
        "id": "xb8KGkAUbReV"
      },
      "execution_count": 32,
      "outputs": []
    },
    {
      "cell_type": "code",
      "source": [
        "data.info()"
      ],
      "metadata": {
        "colab": {
          "base_uri": "https://localhost:8080/"
        },
        "id": "5STKrROBcvkl",
        "outputId": "b3722071-b33b-4c50-8bbd-9bfd56a393f0"
      },
      "execution_count": 33,
      "outputs": [
        {
          "output_type": "stream",
          "name": "stdout",
          "text": [
            "<class 'pandas.core.frame.DataFrame'>\n",
            "Int64Index: 39775 entries, 25227 to 14230\n",
            "Data columns (total 18 columns):\n",
            " #   Column              Non-Null Count  Dtype\n",
            "---  ------              --------------  -----\n",
            " 0   Optimistic          39775 non-null  int64\n",
            " 1   Motivation          39775 non-null  int64\n",
            " 2   Looking-Forward     39775 non-null  int64\n",
            " 3   Sadness             39775 non-null  int64\n",
            " 4   Interest            39775 non-null  int64\n",
            " 5   Existential-Crisis  39775 non-null  int64\n",
            " 6   Importance          39775 non-null  int64\n",
            " 7   Enjoyment           39775 non-null  int64\n",
            " 8   Down-hearted        39775 non-null  int64\n",
            " 9   Enthusiasm          39775 non-null  int64\n",
            " 10  Worthiness          39775 non-null  int64\n",
            " 11  Hopefulness         39775 non-null  int64\n",
            " 12  Meaningless         39775 non-null  int64\n",
            " 13  Tiredness           39775 non-null  int64\n",
            " 14  gender              39775 non-null  int64\n",
            " 15  age                 39775 non-null  int64\n",
            " 16  married             39775 non-null  int64\n",
            " 17  Condition           39775 non-null  int64\n",
            "dtypes: int64(18)\n",
            "memory usage: 5.8 MB\n"
          ]
        }
      ]
    },
    {
      "cell_type": "markdown",
      "source": [
        "# Split the data into train / test splits"
      ],
      "metadata": {
        "id": "wJBXLDUXXK-l"
      }
    },
    {
      "cell_type": "code",
      "source": [
        "# Split the data into 60% train and 40% test\n",
        "train_dataset, temp_test_dataset = train_test_split(data, test_size=0.4)\n",
        "\n",
        "print(train_dataset.shape)\n",
        "print(temp_test_dataset.shape)"
      ],
      "metadata": {
        "colab": {
          "base_uri": "https://localhost:8080/"
        },
        "id": "altAptUiXBhN",
        "outputId": "cc28b7d9-5f21-4886-af7a-4d9736ed8fae"
      },
      "execution_count": 34,
      "outputs": [
        {
          "output_type": "stream",
          "name": "stdout",
          "text": [
            "(23865, 18)\n",
            "(15910, 18)\n"
          ]
        }
      ]
    },
    {
      "cell_type": "code",
      "source": [
        "# Split the temp_test_dataset dataframe to 50% test and 50% cross-validation\n",
        "# Hence, the dataset is splitted into 60% train, 20% cross-validate and 20% test\n",
        "test_dataset, cross_valid_dataset = train_test_split(temp_test_dataset, test_size=0.5)\n",
        "\n",
        "print(test_dataset.shape)\n",
        "print(cross_valid_dataset.shape)"
      ],
      "metadata": {
        "colab": {
          "base_uri": "https://localhost:8080/"
        },
        "id": "oWiReYExXVH0",
        "outputId": "14a3ace8-5ce8-457f-d7ec-cadcfbcf634f"
      },
      "execution_count": 35,
      "outputs": [
        {
          "output_type": "stream",
          "name": "stdout",
          "text": [
            "(7955, 18)\n",
            "(7955, 18)\n"
          ]
        }
      ]
    },
    {
      "cell_type": "code",
      "source": [
        "print(f\"Display the datatype of the test_dataset: {type(test_dataset)}\")\n",
        "print(f\"Train dataset           : {train_dataset.shape}\")\n",
        "print(f\"Cross-Validation dataset: {test_dataset.shape}\")\n",
        "print(f\"Test dataset            : {cross_valid_dataset.shape}\")"
      ],
      "metadata": {
        "colab": {
          "base_uri": "https://localhost:8080/"
        },
        "id": "HfOdsqZqYywB",
        "outputId": "104a8138-fbe6-40e7-b108-8fa1607192ac"
      },
      "execution_count": 36,
      "outputs": [
        {
          "output_type": "stream",
          "name": "stdout",
          "text": [
            "Display the datatype of the test_dataset: <class 'pandas.core.frame.DataFrame'>\n",
            "Train dataset           : (23865, 18)\n",
            "Cross-Validation dataset: (7955, 18)\n",
            "Test dataset            : (7955, 18)\n"
          ]
        }
      ]
    },
    {
      "cell_type": "code",
      "source": [
        "# Plot the relationship between each two variables to spot anything incorrect\n",
        "train_stats = train_dataset.describe()\n",
        "train_stats.pop(\"Condition\")\n",
        "sns.pairplot(train_stats[train_stats.columns], diag_kind=\"kde\")"
      ],
      "metadata": {
        "colab": {
          "base_uri": "https://localhost:8080/",
          "height": 1000
        },
        "id": "xKo-9I4UZVXZ",
        "outputId": "0149aa8e-bf83-4994-991b-7408d88129c2"
      },
      "execution_count": 37,
      "outputs": [
        {
          "output_type": "execute_result",
          "data": {
            "text/plain": [
              "<seaborn.axisgrid.PairGrid at 0x7fe071d3c090>"
            ]
          },
          "metadata": {},
          "execution_count": 37
        },
        {
          "output_type": "display_data",
          "data": {
            "text/plain": [
              "<Figure size 3060x3060 with 306 Axes>"
            ],
            "image/png": "[encoded data removed]"
          },
          "metadata": {
            "needs_background": "light"
          }
        }
      ]
    },
    {
      "cell_type": "code",
      "source": [
        "# Statistics on the train dataset to make sure it is in a good shape\n",
        "train_stats = train_dataset.describe()\n",
        "train_stats.pop(\"Condition\")\n",
        "train_stats = train_stats.transpose()\n",
        "train_stats"
      ],
      "metadata": {
        "colab": {
          "base_uri": "https://localhost:8080/",
          "height": 582
        },
        "id": "4-aK2OQza3Kj",
        "outputId": "d7fb5fa4-b82d-46f3-9a74-0e68a4451df2"
      },
      "execution_count": 38,
      "outputs": [
        {
          "output_type": "execute_result",
          "data": {
            "text/plain": [
              "                      count       mean        std   min   25%   50%   75%  \\\n",
              "Optimistic          23865.0   1.226357   1.038829   0.0   0.0   1.0   2.0   \n",
              "Motivation          23865.0   1.517997   1.071773   0.0   1.0   1.0   2.0   \n",
              "Looking-Forward     23865.0   1.445171   1.136408   0.0   0.0   1.0   3.0   \n",
              "Sadness             23865.0   1.783868   1.072216   0.0   1.0   2.0   3.0   \n",
              "Interest            23865.0   1.517452   1.110607   0.0   1.0   1.0   3.0   \n",
              "Existential-Crisis  23865.0   1.655856   1.157163   0.0   1.0   2.0   3.0   \n",
              "Importance          23865.0   1.346574   1.164022   0.0   0.0   1.0   2.0   \n",
              "Enjoyment           23865.0   1.433564   1.048579   0.0   1.0   1.0   2.0   \n",
              "Down-hearted        23865.0   1.655479   1.065083   0.0   1.0   2.0   3.0   \n",
              "Enthusiasm          23865.0   1.374021   1.043865   0.0   1.0   1.0   2.0   \n",
              "Worthiness          23865.0   1.631092   1.150983   0.0   1.0   2.0   3.0   \n",
              "Hopefulness         23865.0   1.366855   1.138778   0.0   0.0   1.0   2.0   \n",
              "Meaningless         23865.0   1.391201   1.188766   0.0   0.0   1.0   3.0   \n",
              "Tiredness           23865.0   1.679824   1.035017   0.0   1.0   2.0   3.0   \n",
              "gender              23865.0   1.796061   0.440683   1.0   2.0   2.0   2.0   \n",
              "age                 23865.0  23.667714  23.715520  13.0  18.0  21.0  25.0   \n",
              "married             23865.0   1.174104   0.455605   1.0   1.0   1.0   1.0   \n",
              "\n",
              "                       max  \n",
              "Optimistic             3.0  \n",
              "Motivation             3.0  \n",
              "Looking-Forward        3.0  \n",
              "Sadness                3.0  \n",
              "Interest               3.0  \n",
              "Existential-Crisis     3.0  \n",
              "Importance             3.0  \n",
              "Enjoyment              3.0  \n",
              "Down-hearted           3.0  \n",
              "Enthusiasm             3.0  \n",
              "Worthiness             3.0  \n",
              "Hopefulness            3.0  \n",
              "Meaningless            3.0  \n",
              "Tiredness              3.0  \n",
              "gender                 3.0  \n",
              "age                 1996.0  \n",
              "married                3.0  "
            ],
            "text/html": [
              "\n",
              "  <div id=\"df-29a9830c-6087-417a-86be-9480dd9faebf\">\n",
              "    <div class=\"colab-df-container\">\n",
              "      <div>\n",
              "<style scoped>\n",
              "    .dataframe tbody tr th:only-of-type {\n",
              "        vertical-align: middle;\n",
              "    }\n",
              "\n",
              "    .dataframe tbody tr th {\n",
              "        vertical-align: top;\n",
              "    }\n",
              "\n",
              "    .dataframe thead th {\n",
              "        text-align: right;\n",
              "    }\n",
              "</style>\n",
              "<table border=\"1\" class=\"dataframe\">\n",
              "  <thead>\n",
              "    <tr style=\"text-align: right;\">\n",
              "      <th></th>\n",
              "      <th>count</th>\n",
              "      <th>mean</th>\n",
              "      <th>std</th>\n",
              "      <th>min</th>\n",
              "      <th>25%</th>\n",
              "      <th>50%</th>\n",
              "      <th>75%</th>\n",
              "      <th>max</th>\n",
              "    </tr>\n",
              "  </thead>\n",
              "  <tbody>\n",
              "    <tr>\n",
              "      <th>Optimistic</th>\n",
              "      <td>23865.0</td>\n",
              "      <td>1.226357</td>\n",
              "      <td>1.038829</td>\n",
              "      <td>0.0</td>\n",
              "      <td>0.0</td>\n",
              "      <td>1.0</td>\n",
              "      <td>2.0</td>\n",
              "      <td>3.0</td>\n",
              "    </tr>\n",
              "    <tr>\n",
              "      <th>Motivation</th>\n",
              "      <td>23865.0</td>\n",
              "      <td>1.517997</td>\n",
              "      <td>1.071773</td>\n",
              "      <td>0.0</td>\n",
              "      <td>1.0</td>\n",
              "      <td>1.0</td>\n",
              "      <td>2.0</td>\n",
              "      <td>3.0</td>\n",
              "    </tr>\n",
              "    <tr>\n",
              "      <th>Looking-Forward</th>\n",
              "      <td>23865.0</td>\n",
              "      <td>1.445171</td>\n",
              "      <td>1.136408</td>\n",
              "      <td>0.0</td>\n",
              "      <td>0.0</td>\n",
              "      <td>1.0</td>\n",
              "      <td>3.0</td>\n",
              "      <td>3.0</td>\n",
              "    </tr>\n",
              "    <tr>\n",
              "      <th>Sadness</th>\n",
              "      <td>23865.0</td>\n",
              "      <td>1.783868</td>\n",
              "      <td>1.072216</td>\n",
              "      <td>0.0</td>\n",
              "      <td>1.0</td>\n",
              "      <td>2.0</td>\n",
              "      <td>3.0</td>\n",
              "      <td>3.0</td>\n",
              "    </tr>\n",
              "    <tr>\n",
              "      <th>Interest</th>\n",
              "      <td>23865.0</td>\n",
              "      <td>1.517452</td>\n",
              "      <td>1.110607</td>\n",
              "      <td>0.0</td>\n",
              "      <td>1.0</td>\n",
              "      <td>1.0</td>\n",
              "      <td>3.0</td>\n",
              "      <td>3.0</td>\n",
              "    </tr>\n",
              "    <tr>\n",
              "      <th>Existential-Crisis</th>\n",
              "      <td>23865.0</td>\n",
              "      <td>1.655856</td>\n",
              "      <td>1.157163</td>\n",
              "      <td>0.0</td>\n",
              "      <td>1.0</td>\n",
              "      <td>2.0</td>\n",
              "      <td>3.0</td>\n",
              "      <td>3.0</td>\n",
              "    </tr>\n",
              "    <tr>\n",
              "      <th>Importance</th>\n",
              "      <td>23865.0</td>\n",
              "      <td>1.346574</td>\n",
              "      <td>1.164022</td>\n",
              "      <td>0.0</td>\n",
              "      <td>0.0</td>\n",
              "      <td>1.0</td>\n",
              "      <td>2.0</td>\n",
              "      <td>3.0</td>\n",
              "    </tr>\n",
              "    <tr>\n",
              "      <th>Enjoyment</th>\n",
              "      <td>23865.0</td>\n",
              "      <td>1.433564</td>\n",
              "      <td>1.048579</td>\n",
              "      <td>0.0</td>\n",
              "      <td>1.0</td>\n",
              "      <td>1.0</td>\n",
              "      <td>2.0</td>\n",
              "      <td>3.0</td>\n",
              "    </tr>\n",
              "    <tr>\n",
              "      <th>Down-hearted</th>\n",
              "      <td>23865.0</td>\n",
              "      <td>1.655479</td>\n",
              "      <td>1.065083</td>\n",
              "      <td>0.0</td>\n",
              "      <td>1.0</td>\n",
              "      <td>2.0</td>\n",
              "      <td>3.0</td>\n",
              "      <td>3.0</td>\n",
              "    </tr>\n",
              "    <tr>\n",
              "      <th>Enthusiasm</th>\n",
              "      <td>23865.0</td>\n",
              "      <td>1.374021</td>\n",
              "      <td>1.043865</td>\n",
              "      <td>0.0</td>\n",
              "      <td>1.0</td>\n",
              "      <td>1.0</td>\n",
              "      <td>2.0</td>\n",
              "      <td>3.0</td>\n",
              "    </tr>\n",
              "    <tr>\n",
              "      <th>Worthiness</th>\n",
              "      <td>23865.0</td>\n",
              "      <td>1.631092</td>\n",
              "      <td>1.150983</td>\n",
              "      <td>0.0</td>\n",
              "      <td>1.0</td>\n",
              "      <td>2.0</td>\n",
              "      <td>3.0</td>\n",
              "      <td>3.0</td>\n",
              "    </tr>\n",
              "    <tr>\n",
              "      <th>Hopefulness</th>\n",
              "      <td>23865.0</td>\n",
              "      <td>1.366855</td>\n",
              "      <td>1.138778</td>\n",
              "      <td>0.0</td>\n",
              "      <td>0.0</td>\n",
              "      <td>1.0</td>\n",
              "      <td>2.0</td>\n",
              "      <td>3.0</td>\n",
              "    </tr>\n",
              "    <tr>\n",
              "      <th>Meaningless</th>\n",
              "      <td>23865.0</td>\n",
              "      <td>1.391201</td>\n",
              "      <td>1.188766</td>\n",
              "      <td>0.0</td>\n",
              "      <td>0.0</td>\n",
              "      <td>1.0</td>\n",
              "      <td>3.0</td>\n",
              "      <td>3.0</td>\n",
              "    </tr>\n",
              "    <tr>\n",
              "      <th>Tiredness</th>\n",
              "      <td>23865.0</td>\n",
              "      <td>1.679824</td>\n",
              "      <td>1.035017</td>\n",
              "      <td>0.0</td>\n",
              "      <td>1.0</td>\n",
              "      <td>2.0</td>\n",
              "      <td>3.0</td>\n",
              "      <td>3.0</td>\n",
              "    </tr>\n",
              "    <tr>\n",
              "      <th>gender</th>\n",
              "      <td>23865.0</td>\n",
              "      <td>1.796061</td>\n",
              "      <td>0.440683</td>\n",
              "      <td>1.0</td>\n",
              "      <td>2.0</td>\n",
              "      <td>2.0</td>\n",
              "      <td>2.0</td>\n",
              "      <td>3.0</td>\n",
              "    </tr>\n",
              "    <tr>\n",
              "      <th>age</th>\n",
              "      <td>23865.0</td>\n",
              "      <td>23.667714</td>\n",
              "      <td>23.715520</td>\n",
              "      <td>13.0</td>\n",
              "      <td>18.0</td>\n",
              "      <td>21.0</td>\n",
              "      <td>25.0</td>\n",
              "      <td>1996.0</td>\n",
              "    </tr>\n",
              "    <tr>\n",
              "      <th>married</th>\n",
              "      <td>23865.0</td>\n",
              "      <td>1.174104</td>\n",
              "      <td>0.455605</td>\n",
              "      <td>1.0</td>\n",
              "      <td>1.0</td>\n",
              "      <td>1.0</td>\n",
              "      <td>1.0</td>\n",
              "      <td>3.0</td>\n",
              "    </tr>\n",
              "  </tbody>\n",
              "</table>\n",
              "</div>\n",
              "      <button class=\"colab-df-convert\" onclick=\"convertToInteractive('df-29a9830c-6087-417a-86be-9480dd9faebf')\"\n",
              "              title=\"Convert this dataframe to an interactive table.\"\n",
              "              style=\"display:none;\">\n",
              "        \n",
              "  <svg xmlns=\"http://www.w3.org/2000/svg\" height=\"24px\"viewBox=\"0 0 24 24\"\n",
              "       width=\"24px\">\n",
              "    <path d=\"M0 0h24v24H0V0z\" fill=\"none\"/>\n",
              "    <path d=\"M18.56 5.44l.94 2.06.94-2.06 2.06-.94-2.06-.94-.94-2.06-.94 2.06-2.06.94zm-11 1L8.5 8.5l.94-2.06 2.06-.94-2.06-.94L8.5 2.5l-.94 2.06-2.06.94zm10 10l.94 2.06.94-2.06 2.06-.94-2.06-.94-.94-2.06-.94 2.06-2.06.94z\"/><path d=\"M17.41 7.96l-1.37-1.37c-.4-.4-.92-.59-1.43-.59-.52 0-1.04.2-1.43.59L10.3 9.45l-7.72 7.72c-.78.78-.78 2.05 0 2.83L4 21.41c.39.39.9.59 1.41.59.51 0 1.02-.2 1.41-.59l7.78-7.78 2.81-2.81c.8-.78.8-2.07 0-2.86zM5.41 20L4 18.59l7.72-7.72 1.47 1.35L5.41 20z\"/>\n",
              "  </svg>\n",
              "      </button>\n",
              "      \n",
              "  <style>\n",
              "    .colab-df-container {\n",
              "      display:flex;\n",
              "      flex-wrap:wrap;\n",
              "      gap: 12px;\n",
              "    }\n",
              "\n",
              "    .colab-df-convert {\n",
              "      background-color: #E8F0FE;\n",
              "      border: none;\n",
              "      border-radius: 50%;\n",
              "      cursor: pointer;\n",
              "      display: none;\n",
              "      fill: #1967D2;\n",
              "      height: 32px;\n",
              "      padding: 0 0 0 0;\n",
              "      width: 32px;\n",
              "    }\n",
              "\n",
              "    .colab-df-convert:hover {\n",
              "      background-color: #E2EBFA;\n",
              "      box-shadow: 0px 1px 2px rgba(60, 64, 67, 0.3), 0px 1px 3px 1px rgba(60, 64, 67, 0.15);\n",
              "      fill: #174EA6;\n",
              "    }\n",
              "\n",
              "    [theme=dark] .colab-df-convert {\n",
              "      background-color: #3B4455;\n",
              "      fill: #D2E3FC;\n",
              "    }\n",
              "\n",
              "    [theme=dark] .colab-df-convert:hover {\n",
              "      background-color: #434B5C;\n",
              "      box-shadow: 0px 1px 3px 1px rgba(0, 0, 0, 0.15);\n",
              "      filter: drop-shadow(0px 1px 2px rgba(0, 0, 0, 0.3));\n",
              "      fill: #FFFFFF;\n",
              "    }\n",
              "  </style>\n",
              "\n",
              "      <script>\n",
              "        const buttonEl =\n",
              "          document.querySelector('#df-29a9830c-6087-417a-86be-9480dd9faebf button.colab-df-convert');\n",
              "        buttonEl.style.display =\n",
              "          google.colab.kernel.accessAllowed ? 'block' : 'none';\n",
              "\n",
              "        async function convertToInteractive(key) {\n",
              "          const element = document.querySelector('#df-29a9830c-6087-417a-86be-9480dd9faebf');\n",
              "          const dataTable =\n",
              "            await google.colab.kernel.invokeFunction('convertToInteractive',\n",
              "                                                     [key], {});\n",
              "          if (!dataTable) return;\n",
              "\n",
              "          const docLinkHtml = 'Like what you see? Visit the ' +\n",
              "            '<a target=\"_blank\" href=https://colab.research.google.com/notebooks/data_table.ipynb>data table notebook</a>'\n",
              "            + ' to learn more about interactive tables.';\n",
              "          element.innerHTML = '';\n",
              "          dataTable['output_type'] = 'display_data';\n",
              "          await google.colab.output.renderOutput(dataTable, element);\n",
              "          const docLink = document.createElement('div');\n",
              "          docLink.innerHTML = docLinkHtml;\n",
              "          element.appendChild(docLink);\n",
              "        }\n",
              "      </script>\n",
              "    </div>\n",
              "  </div>\n",
              "  "
            ]
          },
          "metadata": {},
          "execution_count": 38
        }
      ]
    },
    {
      "cell_type": "code",
      "source": [
        "# Obtain the label\n",
        "train_labels = train_dataset.pop(\"Condition\")\n",
        "test_labels = test_dataset.pop(\"Condition\")\n",
        "cross_valid_labels = cross_valid_dataset.pop(\"Condition\")"
      ],
      "metadata": {
        "id": "pbTT0PqheSgt"
      },
      "execution_count": 39,
      "outputs": []
    },
    {
      "cell_type": "markdown",
      "source": [
        "# Data Normalization / Scaling"
      ],
      "metadata": {
        "id": "ODKnEMpteoLj"
      }
    },
    {
      "cell_type": "code",
      "source": [
        "# Define a function to normalize the dataset\n",
        "# Subtract the mean of the training data and divide by the standard deviaion of the training data\n",
        "def norm(x):\n",
        "  return (x - train_stats['mean']) / train_stats['std']\n",
        "\n",
        "normed_train_data = norm(train_dataset)\n",
        "normed_test_data = norm(test_dataset)\n",
        "normed_cross_valid_data = norm(cross_valid_dataset)"
      ],
      "metadata": {
        "id": "mOlL6omSerQ8"
      },
      "execution_count": 40,
      "outputs": []
    },
    {
      "cell_type": "code",
      "source": [
        "print(f\"Mean - {train_stats['mean']}\")\n",
        "print(f\"Std - {train_stats['std']}\")"
      ],
      "metadata": {
        "colab": {
          "base_uri": "https://localhost:8080/"
        },
        "id": "ogFVSHKtSP1J",
        "outputId": "097c73fd-d3dc-4f48-9b34-fbd648864339"
      },
      "execution_count": 41,
      "outputs": [
        {
          "output_type": "stream",
          "name": "stdout",
          "text": [
            "Mean - Optimistic             1.226357\n",
            "Motivation             1.517997\n",
            "Looking-Forward        1.445171\n",
            "Sadness                1.783868\n",
            "Interest               1.517452\n",
            "Existential-Crisis     1.655856\n",
            "Importance             1.346574\n",
            "Enjoyment              1.433564\n",
            "Down-hearted           1.655479\n",
            "Enthusiasm             1.374021\n",
            "Worthiness             1.631092\n",
            "Hopefulness            1.366855\n",
            "Meaningless            1.391201\n",
            "Tiredness              1.679824\n",
            "gender                 1.796061\n",
            "age                   23.667714\n",
            "married                1.174104\n",
            "Name: mean, dtype: float64\n",
            "Std - Optimistic             1.038829\n",
            "Motivation             1.071773\n",
            "Looking-Forward        1.136408\n",
            "Sadness                1.072216\n",
            "Interest               1.110607\n",
            "Existential-Crisis     1.157163\n",
            "Importance             1.164022\n",
            "Enjoyment              1.048579\n",
            "Down-hearted           1.065083\n",
            "Enthusiasm             1.043865\n",
            "Worthiness             1.150983\n",
            "Hopefulness            1.138778\n",
            "Meaningless            1.188766\n",
            "Tiredness              1.035017\n",
            "gender                 0.440683\n",
            "age                   23.715520\n",
            "married                0.455605\n",
            "Name: std, dtype: float64\n"
          ]
        }
      ]
    },
    {
      "cell_type": "code",
      "source": [
        "# Show a sample of the data after normalized\n",
        "normed_train_data.head(10)"
      ],
      "metadata": {
        "colab": {
          "base_uri": "https://localhost:8080/",
          "height": 444
        },
        "id": "8ualHHXIfF51",
        "outputId": "4dad754d-5bb2-4938-8e7f-176ac4b3c1b1"
      },
      "execution_count": 42,
      "outputs": [
        {
          "output_type": "execute_result",
          "data": {
            "text/plain": [
              "       Optimistic  Motivation  Looking-Forward   Sadness  Interest  \\\n",
              "11488    1.707348    1.382758         1.368197  1.134223  1.334899   \n",
              "17617    0.744726    1.382758         1.368197  1.134223  1.334899   \n",
              "31813   -1.180518   -0.483309         0.488231  0.201575  1.334899   \n",
              "15168    1.707348    1.382758         1.368197  1.134223  1.334899   \n",
              "8589    -1.180518   -0.483309         1.368197  0.201575  0.434490   \n",
              "29649    0.744726   -0.483309         1.368197  1.134223 -0.465919   \n",
              "8478     0.744726    0.449725         0.488231  0.201575  0.434490   \n",
              "13077    1.707348   -1.416342         0.488231  1.134223  1.334899   \n",
              "38465   -1.180518   -1.416342        -1.271701 -0.731072 -1.366327   \n",
              "22696   -1.180518   -0.483309        -0.391735 -0.731072 -1.366327   \n",
              "\n",
              "       Existential-Crisis  Importance  Enjoyment  Down-hearted  Enthusiasm  \\\n",
              "11488            1.161585    1.420441   1.493865      1.262363    1.557653   \n",
              "17617            1.161585    0.561351  -1.367149      1.262363    1.557653   \n",
              "31813           -0.566779   -0.297739  -0.413477      1.262363    0.599675   \n",
              "15168            0.297403    1.420441   1.493865      0.323469    0.599675   \n",
              "8589             0.297403   -0.297739  -0.413477      0.323469    1.557653   \n",
              "29649            1.161585   -0.297739  -0.413477      0.323469    0.599675   \n",
              "8478             1.161585    0.561351  -0.413477      1.262363    0.599675   \n",
              "13077            1.161585    1.420441   0.540194      1.262363    0.599675   \n",
              "38465           -0.566779   -0.297739  -0.413477     -1.554320    1.557653   \n",
              "22696           -0.566779   -0.297739  -0.413477     -0.615425   -0.358304   \n",
              "\n",
              "       Worthiness  Hopefulness  Meaningless  Tiredness    gender       age  \\\n",
              "11488    1.189338     1.434121     1.353336   1.275512 -1.806425  0.267010   \n",
              "17617    1.189338     1.434121     1.353336   1.275512 -1.806425 -0.196821   \n",
              "31813   -0.548306     1.434121    -1.170290   0.309344  0.462779 -0.407653   \n",
              "15168    1.189338     1.434121     1.353336   0.309344  0.462779 -0.154655   \n",
              "8589     1.189338     0.555986     1.353336   0.309344  0.462779 -0.154655   \n",
              "29649    1.189338     0.555986     0.512127   1.275512  0.462779  0.056178   \n",
              "8478     1.189338    -0.322148     1.353336  -0.656824  0.462779 -0.154655   \n",
              "13077    1.189338     1.434121    -0.329081  -1.622992 -1.806425 -0.238988   \n",
              "38465   -0.548306    -1.200283    -0.329081  -0.656824 -1.806425  0.014011   \n",
              "22696   -0.548306    -0.322148     0.512127  -1.622992 -1.806425 -0.365487   \n",
              "\n",
              "        married  \n",
              "11488 -0.382139  \n",
              "17617 -0.382139  \n",
              "31813 -0.382139  \n",
              "15168 -0.382139  \n",
              "8589  -0.382139  \n",
              "29649  1.812744  \n",
              "8478  -0.382139  \n",
              "13077 -0.382139  \n",
              "38465 -0.382139  \n",
              "22696 -0.382139  "
            ],
            "text/html": [
              "\n",
              "  <div id=\"df-1d0a61c7-337a-4440-a207-e1486681b640\">\n",
              "    <div class=\"colab-df-container\">\n",
              "      <div>\n",
              "<style scoped>\n",
              "    .dataframe tbody tr th:only-of-type {\n",
              "        vertical-align: middle;\n",
              "    }\n",
              "\n",
              "    .dataframe tbody tr th {\n",
              "        vertical-align: top;\n",
              "    }\n",
              "\n",
              "    .dataframe thead th {\n",
              "        text-align: right;\n",
              "    }\n",
              "</style>\n",
              "<table border=\"1\" class=\"dataframe\">\n",
              "  <thead>\n",
              "    <tr style=\"text-align: right;\">\n",
              "      <th></th>\n",
              "      <th>Optimistic</th>\n",
              "      <th>Motivation</th>\n",
              "      <th>Looking-Forward</th>\n",
              "      <th>Sadness</th>\n",
              "      <th>Interest</th>\n",
              "      <th>Existential-Crisis</th>\n",
              "      <th>Importance</th>\n",
              "      <th>Enjoyment</th>\n",
              "      <th>Down-hearted</th>\n",
              "      <th>Enthusiasm</th>\n",
              "      <th>Worthiness</th>\n",
              "      <th>Hopefulness</th>\n",
              "      <th>Meaningless</th>\n",
              "      <th>Tiredness</th>\n",
              "      <th>gender</th>\n",
              "      <th>age</th>\n",
              "      <th>married</th>\n",
              "    </tr>\n",
              "  </thead>\n",
              "  <tbody>\n",
              "    <tr>\n",
              "      <th>11488</th>\n",
              "      <td>1.707348</td>\n",
              "      <td>1.382758</td>\n",
              "      <td>1.368197</td>\n",
              "      <td>1.134223</td>\n",
              "      <td>1.334899</td>\n",
              "      <td>1.161585</td>\n",
              "      <td>1.420441</td>\n",
              "      <td>1.493865</td>\n",
              "      <td>1.262363</td>\n",
              "      <td>1.557653</td>\n",
              "      <td>1.189338</td>\n",
              "      <td>1.434121</td>\n",
              "      <td>1.353336</td>\n",
              "      <td>1.275512</td>\n",
              "      <td>-1.806425</td>\n",
              "      <td>0.267010</td>\n",
              "      <td>-0.382139</td>\n",
              "    </tr>\n",
              "    <tr>\n",
              "      <th>17617</th>\n",
              "      <td>0.744726</td>\n",
              "      <td>1.382758</td>\n",
              "      <td>1.368197</td>\n",
              "      <td>1.134223</td>\n",
              "      <td>1.334899</td>\n",
              "      <td>1.161585</td>\n",
              "      <td>0.561351</td>\n",
              "      <td>-1.367149</td>\n",
              "      <td>1.262363</td>\n",
              "      <td>1.557653</td>\n",
              "      <td>1.189338</td>\n",
              "      <td>1.434121</td>\n",
              "      <td>1.353336</td>\n",
              "      <td>1.275512</td>\n",
              "      <td>-1.806425</td>\n",
              "      <td>-0.196821</td>\n",
              "      <td>-0.382139</td>\n",
              "    </tr>\n",
              "    <tr>\n",
              "      <th>31813</th>\n",
              "      <td>-1.180518</td>\n",
              "      <td>-0.483309</td>\n",
              "      <td>0.488231</td>\n",
              "      <td>0.201575</td>\n",
              "      <td>1.334899</td>\n",
              "      <td>-0.566779</td>\n",
              "      <td>-0.297739</td>\n",
              "      <td>-0.413477</td>\n",
              "      <td>1.262363</td>\n",
              "      <td>0.599675</td>\n",
              "      <td>-0.548306</td>\n",
              "      <td>1.434121</td>\n",
              "      <td>-1.170290</td>\n",
              "      <td>0.309344</td>\n",
              "      <td>0.462779</td>\n",
              "      <td>-0.407653</td>\n",
              "      <td>-0.382139</td>\n",
              "    </tr>\n",
              "    <tr>\n",
              "      <th>15168</th>\n",
              "      <td>1.707348</td>\n",
              "      <td>1.382758</td>\n",
              "      <td>1.368197</td>\n",
              "      <td>1.134223</td>\n",
              "      <td>1.334899</td>\n",
              "      <td>0.297403</td>\n",
              "      <td>1.420441</td>\n",
              "      <td>1.493865</td>\n",
              "      <td>0.323469</td>\n",
              "      <td>0.599675</td>\n",
              "      <td>1.189338</td>\n",
              "      <td>1.434121</td>\n",
              "      <td>1.353336</td>\n",
              "      <td>0.309344</td>\n",
              "      <td>0.462779</td>\n",
              "      <td>-0.154655</td>\n",
              "      <td>-0.382139</td>\n",
              "    </tr>\n",
              "    <tr>\n",
              "      <th>8589</th>\n",
              "      <td>-1.180518</td>\n",
              "      <td>-0.483309</td>\n",
              "      <td>1.368197</td>\n",
              "      <td>0.201575</td>\n",
              "      <td>0.434490</td>\n",
              "      <td>0.297403</td>\n",
              "      <td>-0.297739</td>\n",
              "      <td>-0.413477</td>\n",
              "      <td>0.323469</td>\n",
              "      <td>1.557653</td>\n",
              "      <td>1.189338</td>\n",
              "      <td>0.555986</td>\n",
              "      <td>1.353336</td>\n",
              "      <td>0.309344</td>\n",
              "      <td>0.462779</td>\n",
              "      <td>-0.154655</td>\n",
              "      <td>-0.382139</td>\n",
              "    </tr>\n",
              "    <tr>\n",
              "      <th>29649</th>\n",
              "      <td>0.744726</td>\n",
              "      <td>-0.483309</td>\n",
              "      <td>1.368197</td>\n",
              "      <td>1.134223</td>\n",
              "      <td>-0.465919</td>\n",
              "      <td>1.161585</td>\n",
              "      <td>-0.297739</td>\n",
              "      <td>-0.413477</td>\n",
              "      <td>0.323469</td>\n",
              "      <td>0.599675</td>\n",
              "      <td>1.189338</td>\n",
              "      <td>0.555986</td>\n",
              "      <td>0.512127</td>\n",
              "      <td>1.275512</td>\n",
              "      <td>0.462779</td>\n",
              "      <td>0.056178</td>\n",
              "      <td>1.812744</td>\n",
              "    </tr>\n",
              "    <tr>\n",
              "      <th>8478</th>\n",
              "      <td>0.744726</td>\n",
              "      <td>0.449725</td>\n",
              "      <td>0.488231</td>\n",
              "      <td>0.201575</td>\n",
              "      <td>0.434490</td>\n",
              "      <td>1.161585</td>\n",
              "      <td>0.561351</td>\n",
              "      <td>-0.413477</td>\n",
              "      <td>1.262363</td>\n",
              "      <td>0.599675</td>\n",
              "      <td>1.189338</td>\n",
              "      <td>-0.322148</td>\n",
              "      <td>1.353336</td>\n",
              "      <td>-0.656824</td>\n",
              "      <td>0.462779</td>\n",
              "      <td>-0.154655</td>\n",
              "      <td>-0.382139</td>\n",
              "    </tr>\n",
              "    <tr>\n",
              "      <th>13077</th>\n",
              "      <td>1.707348</td>\n",
              "      <td>-1.416342</td>\n",
              "      <td>0.488231</td>\n",
              "      <td>1.134223</td>\n",
              "      <td>1.334899</td>\n",
              "      <td>1.161585</td>\n",
              "      <td>1.420441</td>\n",
              "      <td>0.540194</td>\n",
              "      <td>1.262363</td>\n",
              "      <td>0.599675</td>\n",
              "      <td>1.189338</td>\n",
              "      <td>1.434121</td>\n",
              "      <td>-0.329081</td>\n",
              "      <td>-1.622992</td>\n",
              "      <td>-1.806425</td>\n",
              "      <td>-0.238988</td>\n",
              "      <td>-0.382139</td>\n",
              "    </tr>\n",
              "    <tr>\n",
              "      <th>38465</th>\n",
              "      <td>-1.180518</td>\n",
              "      <td>-1.416342</td>\n",
              "      <td>-1.271701</td>\n",
              "      <td>-0.731072</td>\n",
              "      <td>-1.366327</td>\n",
              "      <td>-0.566779</td>\n",
              "      <td>-0.297739</td>\n",
              "      <td>-0.413477</td>\n",
              "      <td>-1.554320</td>\n",
              "      <td>1.557653</td>\n",
              "      <td>-0.548306</td>\n",
              "      <td>-1.200283</td>\n",
              "      <td>-0.329081</td>\n",
              "      <td>-0.656824</td>\n",
              "      <td>-1.806425</td>\n",
              "      <td>0.014011</td>\n",
              "      <td>-0.382139</td>\n",
              "    </tr>\n",
              "    <tr>\n",
              "      <th>22696</th>\n",
              "      <td>-1.180518</td>\n",
              "      <td>-0.483309</td>\n",
              "      <td>-0.391735</td>\n",
              "      <td>-0.731072</td>\n",
              "      <td>-1.366327</td>\n",
              "      <td>-0.566779</td>\n",
              "      <td>-0.297739</td>\n",
              "      <td>-0.413477</td>\n",
              "      <td>-0.615425</td>\n",
              "      <td>-0.358304</td>\n",
              "      <td>-0.548306</td>\n",
              "      <td>-0.322148</td>\n",
              "      <td>0.512127</td>\n",
              "      <td>-1.622992</td>\n",
              "      <td>-1.806425</td>\n",
              "      <td>-0.365487</td>\n",
              "      <td>-0.382139</td>\n",
              "    </tr>\n",
              "  </tbody>\n",
              "</table>\n",
              "</div>\n",
              "      <button class=\"colab-df-convert\" onclick=\"convertToInteractive('df-1d0a61c7-337a-4440-a207-e1486681b640')\"\n",
              "              title=\"Convert this dataframe to an interactive table.\"\n",
              "              style=\"display:none;\">\n",
              "        \n",
              "  <svg xmlns=\"http://www.w3.org/2000/svg\" height=\"24px\"viewBox=\"0 0 24 24\"\n",
              "       width=\"24px\">\n",
              "    <path d=\"M0 0h24v24H0V0z\" fill=\"none\"/>\n",
              "    <path d=\"M18.56 5.44l.94 2.06.94-2.06 2.06-.94-2.06-.94-.94-2.06-.94 2.06-2.06.94zm-11 1L8.5 8.5l.94-2.06 2.06-.94-2.06-.94L8.5 2.5l-.94 2.06-2.06.94zm10 10l.94 2.06.94-2.06 2.06-.94-2.06-.94-.94-2.06-.94 2.06-2.06.94z\"/><path d=\"M17.41 7.96l-1.37-1.37c-.4-.4-.92-.59-1.43-.59-.52 0-1.04.2-1.43.59L10.3 9.45l-7.72 7.72c-.78.78-.78 2.05 0 2.83L4 21.41c.39.39.9.59 1.41.59.51 0 1.02-.2 1.41-.59l7.78-7.78 2.81-2.81c.8-.78.8-2.07 0-2.86zM5.41 20L4 18.59l7.72-7.72 1.47 1.35L5.41 20z\"/>\n",
              "  </svg>\n",
              "      </button>\n",
              "      \n",
              "  <style>\n",
              "    .colab-df-container {\n",
              "      display:flex;\n",
              "      flex-wrap:wrap;\n",
              "      gap: 12px;\n",
              "    }\n",
              "\n",
              "    .colab-df-convert {\n",
              "      background-color: #E8F0FE;\n",
              "      border: none;\n",
              "      border-radius: 50%;\n",
              "      cursor: pointer;\n",
              "      display: none;\n",
              "      fill: #1967D2;\n",
              "      height: 32px;\n",
              "      padding: 0 0 0 0;\n",
              "      width: 32px;\n",
              "    }\n",
              "\n",
              "    .colab-df-convert:hover {\n",
              "      background-color: #E2EBFA;\n",
              "      box-shadow: 0px 1px 2px rgba(60, 64, 67, 0.3), 0px 1px 3px 1px rgba(60, 64, 67, 0.15);\n",
              "      fill: #174EA6;\n",
              "    }\n",
              "\n",
              "    [theme=dark] .colab-df-convert {\n",
              "      background-color: #3B4455;\n",
              "      fill: #D2E3FC;\n",
              "    }\n",
              "\n",
              "    [theme=dark] .colab-df-convert:hover {\n",
              "      background-color: #434B5C;\n",
              "      box-shadow: 0px 1px 3px 1px rgba(0, 0, 0, 0.15);\n",
              "      filter: drop-shadow(0px 1px 2px rgba(0, 0, 0, 0.3));\n",
              "      fill: #FFFFFF;\n",
              "    }\n",
              "  </style>\n",
              "\n",
              "      <script>\n",
              "        const buttonEl =\n",
              "          document.querySelector('#df-1d0a61c7-337a-4440-a207-e1486681b640 button.colab-df-convert');\n",
              "        buttonEl.style.display =\n",
              "          google.colab.kernel.accessAllowed ? 'block' : 'none';\n",
              "\n",
              "        async function convertToInteractive(key) {\n",
              "          const element = document.querySelector('#df-1d0a61c7-337a-4440-a207-e1486681b640');\n",
              "          const dataTable =\n",
              "            await google.colab.kernel.invokeFunction('convertToInteractive',\n",
              "                                                     [key], {});\n",
              "          if (!dataTable) return;\n",
              "\n",
              "          const docLinkHtml = 'Like what you see? Visit the ' +\n",
              "            '<a target=\"_blank\" href=https://colab.research.google.com/notebooks/data_table.ipynb>data table notebook</a>'\n",
              "            + ' to learn more about interactive tables.';\n",
              "          element.innerHTML = '';\n",
              "          dataTable['output_type'] = 'display_data';\n",
              "          await google.colab.output.renderOutput(dataTable, element);\n",
              "          const docLink = document.createElement('div');\n",
              "          docLink.innerHTML = docLinkHtml;\n",
              "          element.appendChild(docLink);\n",
              "        }\n",
              "      </script>\n",
              "    </div>\n",
              "  </div>\n",
              "  "
            ]
          },
          "metadata": {},
          "execution_count": 42
        }
      ]
    },
    {
      "cell_type": "markdown",
      "source": [
        "# Training the Model"
      ],
      "metadata": {
        "id": "HrWB4VIsfYes"
      }
    },
    {
      "cell_type": "code",
      "source": [
        "# Create a svm classifier\n",
        "model = svm.SVC(C = 1, # regularization parameter\n",
        "                kernel = 'rbf', #kernel{'linear', 'poly', 'rbf', 'sigmoid', 'precomputed'}, default = 'rbf'\n",
        "                )\n",
        "\n",
        "# Train the model using the training sets\n",
        "model.fit(normed_train_data, train_labels)\n",
        "\n",
        "# Predict the response for test dataset\n",
        "y_pred = model.predict(normed_test_data)"
      ],
      "metadata": {
        "id": "f9FhyN1yfb00"
      },
      "execution_count": 43,
      "outputs": []
    },
    {
      "cell_type": "code",
      "source": [
        "example_batch = normed_test_data[:10]\n",
        "example_result = model.predict(example_batch)\n",
        "print(\"predicted values:\")\n",
        "example_result"
      ],
      "metadata": {
        "colab": {
          "base_uri": "https://localhost:8080/"
        },
        "id": "_IvC8XoOgDSc",
        "outputId": "f1c9f63b-278d-42a5-8fb4-6625aa2c659e"
      },
      "execution_count": 44,
      "outputs": [
        {
          "output_type": "stream",
          "name": "stdout",
          "text": [
            "predicted values:\n"
          ]
        },
        {
          "output_type": "execute_result",
          "data": {
            "text/plain": [
              "array([1, 5, 5, 3, 1, 2, 5, 5, 5, 2])"
            ]
          },
          "metadata": {},
          "execution_count": 44
        }
      ]
    },
    {
      "cell_type": "markdown",
      "source": [
        "# See How the Training Went"
      ],
      "metadata": {
        "id": "jk_T8l7zgcyG"
      }
    },
    {
      "cell_type": "code",
      "source": [
        "from sklearn import metrics\n",
        "y_pred = model.predict(normed_train_data)\n",
        "print(\"Accuracy:\", metrics.accuracy_score(train_labels, y_pred))"
      ],
      "metadata": {
        "colab": {
          "base_uri": "https://localhost:8080/"
        },
        "id": "PIoTtPdUgjiT",
        "outputId": "0b3314f6-3798-461b-d41e-11068df39178"
      },
      "execution_count": 45,
      "outputs": [
        {
          "output_type": "stream",
          "name": "stdout",
          "text": [
            "Accuracy: 0.9996647810601299\n"
          ]
        }
      ]
    },
    {
      "cell_type": "code",
      "source": [
        "y_pred = model.predict(normed_cross_valid_data)\n",
        "print(\"Accuracy:\", metrics.accuracy_score(cross_valid_labels, y_pred))"
      ],
      "metadata": {
        "colab": {
          "base_uri": "https://localhost:8080/"
        },
        "id": "PNMq-xmhgxpT",
        "outputId": "a1b3f9b5-6110-4564-a4da-c0d716de566a"
      },
      "execution_count": 46,
      "outputs": [
        {
          "output_type": "stream",
          "name": "stdout",
          "text": [
            "Accuracy: 0.9971087366436203\n"
          ]
        }
      ]
    },
    {
      "cell_type": "code",
      "source": [
        "y_pred = model.predict(normed_test_data)\n",
        "print(\"Accuracy:\", metrics.accuracy_score(test_labels, y_pred))"
      ],
      "metadata": {
        "colab": {
          "base_uri": "https://localhost:8080/"
        },
        "id": "a9ExyiRvhBLs",
        "outputId": "082d774b-cbe9-4e09-84b7-928e0ca9385c"
      },
      "execution_count": 47,
      "outputs": [
        {
          "output_type": "stream",
          "name": "stdout",
          "text": [
            "Accuracy: 0.9969830295411691\n"
          ]
        }
      ]
    },
    {
      "cell_type": "code",
      "source": [
        "from sklearn.metrics import confusion_matrix\n",
        "\n",
        "ax = plt.subplot()\n",
        "predict_results = model.predict(normed_test_data)\n",
        "\n",
        "cm = confusion_matrix(test_labels, predict_results)\n",
        "sns.heatmap(cm, annot=True, ax=ax); # annot = True to annotate cells\n",
        "\n",
        "# labels, title and ticks\n",
        "ax.set_xlabel('Predicted labels');\n",
        "ax.set_ylabel('True labels');\n",
        "ax.set_title('Confusion Matrix');\n",
        "# ax.xaxis.set_ticklabels(['Positive', 'Negative']); ax.yaxis.set_ticklabels(['Positive', 'Negative']);\n"
      ],
      "metadata": {
        "colab": {
          "base_uri": "https://localhost:8080/",
          "height": 295
        },
        "id": "WauRgESSh5aD",
        "outputId": "450f3a55-8130-4359-db82-508c74a40d52"
      },
      "execution_count": 48,
      "outputs": [
        {
          "output_type": "display_data",
          "data": {
            "text/plain": [
              "<Figure size 432x288 with 2 Axes>"
            ],
            "image/png": "[encoded data removed]"
          },
          "metadata": {
            "needs_background": "light"
          }
        }
      ]
    },
    {
      "cell_type": "markdown",
      "source": [
        "# Save the Model for Later Use\n"
      ],
      "metadata": {
        "id": "l7yay7_KLFwi"
      }
    },
    {
      "cell_type": "code",
      "source": [
        "filename = \"depression_model.sav\"\n",
        "import pickle as pk\n",
        "\n",
        "pk.dump(model, open(filename, 'wb'))"
      ],
      "metadata": {
        "id": "jWuQmY-5LJvy"
      },
      "execution_count": 49,
      "outputs": []
    },
    {
      "cell_type": "code",
      "source": [
        "# Test for the accuracy of the saved model\n",
        "loaded_model = pk.load(open(filename, 'rb'))\n",
        "\n",
        "y_pred = loaded_model.predict(normed_train_data)\n",
        "print(\"Accuracy:\", metrics.accuracy_score(train_labels, y_pred)) "
      ],
      "metadata": {
        "colab": {
          "base_uri": "https://localhost:8080/"
        },
        "id": "NHco8OfaLgGy",
        "outputId": "952af1ec-7011-4abc-86c9-53f188188b27"
      },
      "execution_count": 50,
      "outputs": [
        {
          "output_type": "stream",
          "name": "stdout",
          "text": [
            "Accuracy: 0.9996647810601299\n"
          ]
        }
      ]
    },
    {
      "cell_type": "code",
      "source": [
        "y_pred = loaded_model.predict(normed_cross_valid_data)\n",
        "print(\"Accuracy:\", metrics.accuracy_score(cross_valid_labels, y_pred))"
      ],
      "metadata": {
        "colab": {
          "base_uri": "https://localhost:8080/"
        },
        "id": "bnI6KdaTL3t2",
        "outputId": "79e95ed5-fd86-421a-ab86-d909b8770f7f"
      },
      "execution_count": 51,
      "outputs": [
        {
          "output_type": "stream",
          "name": "stdout",
          "text": [
            "Accuracy: 0.9971087366436203\n"
          ]
        }
      ]
    },
    {
      "cell_type": "code",
      "source": [
        "y_pred = loaded_model.predict(normed_test_data)\n",
        "print(\"Accuracy:\", metrics.accuracy_score(test_labels, y_pred))"
      ],
      "metadata": {
        "colab": {
          "base_uri": "https://localhost:8080/"
        },
        "id": "IFr5C_c0MBWz",
        "outputId": "6607ac6a-a2ad-4edf-cdd5-1f94df75fd6d"
      },
      "execution_count": 52,
      "outputs": [
        {
          "output_type": "stream",
          "name": "stdout",
          "text": [
            "Accuracy: 0.9969830295411691\n"
          ]
        }
      ]
    }
  ]
}